{
  "nbformat": 4,
  "nbformat_minor": 0,
  "metadata": {
    "colab": {
      "provenance": []
    },
    "kernelspec": {
      "name": "python3",
      "display_name": "Python 3"
    },
    "language_info": {
      "name": "python"
    }
  },
  "cells": [
    {
      "cell_type": "code",
      "source": [
        "import pandas as pd\n",
        "import numpy as np\n",
        "\n",
        "np.random.seed(42)\n",
        "\n",
        "n = 10000\n",
        "\n",
        "# Imbalanced probabilities\n",
        "directions = ['Left', 'Center', 'Right']\n",
        "probs = [0.6, 0.25, 0.15]\n",
        "\n",
        "# Simulate kick directions\n",
        "kicks = np.random.choice(directions, size=n, p=probs)\n",
        "df = pd.DataFrame({'kick_direction': kicks})\n",
        "\n",
        "# Track how many kicks since each direction occurred\n",
        "df['since_left'] = 0\n",
        "df['since_center'] = 0\n",
        "df['since_right'] = 0\n",
        "\n",
        "last_seen = {'Left': -1, 'Center': -1, 'Right': -1}\n",
        "\n",
        "for i in range(n):\n",
        "    for dir in directions:\n",
        "        if last_seen[dir] == -1:\n",
        "            df.loc[i, f'since_{dir.lower()}'] = i\n",
        "        else:\n",
        "            df.loc[i, f'since_{dir.lower()}'] = i - last_seen[dir]\n",
        "    last_seen[df.loc[i, 'kick_direction']] = i\n",
        "\n"
      ],
      "metadata": {
        "id": "VSzeLClcdaZD"
      },
      "execution_count": null,
      "outputs": []
    },
    {
      "cell_type": "code",
      "source": [
        "import pandas as pd\n",
        "from sklearn.model_selection import train_test_split\n",
        "from sklearn.linear_model import LogisticRegression\n",
        "from sklearn.metrics import classification_report, confusion_matrix\n",
        "\n",
        "\n",
        "\n",
        "# Features (since each direction last occurred)\n",
        "X = df[['since_left', 'since_center', 'since_right']]\n",
        "\n",
        "# Target (actual kick direction)\n",
        "y = df['kick_direction']\n",
        "\n",
        "# Split into training and testing sets\n",
        "X_train, X_test, y_train, y_test = train_test_split(\n",
        "    X, y, test_size=0.2, stratify=y, random_state=42\n",
        ")\n",
        "\n",
        "# Train multinomial logistic regression model WITHOUT weights\n",
        "model = LogisticRegression(\n",
        "    multi_class='multinomial',\n",
        "    solver='lbfgs',\n",
        "    max_iter=1000,\n",
        "    random_state=42\n",
        ")\n",
        "\n",
        "model.fit(X_train, y_train)\n",
        "\n",
        "# Predict\n",
        "y_pred = model.predict(X_test)\n",
        "\n",
        "# Evaluation\n",
        "print(classification_report(y_test, y_pred, labels=['Left', 'Center', 'Right']))\n"
      ],
      "metadata": {
        "colab": {
          "base_uri": "https://localhost:8080/"
        },
        "id": "WN31JV4aeiFW",
        "outputId": "a25a1417-1500-428c-8cef-b06477ea5171"
      },
      "execution_count": null,
      "outputs": [
        {
          "output_type": "stream",
          "name": "stdout",
          "text": [
            "              precision    recall  f1-score   support\n",
            "\n",
            "        Left       0.61      1.00      0.76      1222\n",
            "      Center       0.00      0.00      0.00       489\n",
            "       Right       0.00      0.00      0.00       289\n",
            "\n",
            "    accuracy                           0.61      2000\n",
            "   macro avg       0.20      0.33      0.25      2000\n",
            "weighted avg       0.37      0.61      0.46      2000\n",
            "\n"
          ]
        },
        {
          "output_type": "stream",
          "name": "stderr",
          "text": [
            "/usr/local/lib/python3.11/dist-packages/sklearn/linear_model/_logistic.py:1247: FutureWarning: 'multi_class' was deprecated in version 1.5 and will be removed in 1.7. From then on, it will always use 'multinomial'. Leave it to its default value to avoid this warning.\n",
            "  warnings.warn(\n",
            "/usr/local/lib/python3.11/dist-packages/sklearn/metrics/_classification.py:1565: UndefinedMetricWarning: Precision is ill-defined and being set to 0.0 in labels with no predicted samples. Use `zero_division` parameter to control this behavior.\n",
            "  _warn_prf(average, modifier, f\"{metric.capitalize()} is\", len(result))\n",
            "/usr/local/lib/python3.11/dist-packages/sklearn/metrics/_classification.py:1565: UndefinedMetricWarning: Precision is ill-defined and being set to 0.0 in labels with no predicted samples. Use `zero_division` parameter to control this behavior.\n",
            "  _warn_prf(average, modifier, f\"{metric.capitalize()} is\", len(result))\n",
            "/usr/local/lib/python3.11/dist-packages/sklearn/metrics/_classification.py:1565: UndefinedMetricWarning: Precision is ill-defined and being set to 0.0 in labels with no predicted samples. Use `zero_division` parameter to control this behavior.\n",
            "  _warn_prf(average, modifier, f\"{metric.capitalize()} is\", len(result))\n"
          ]
        }
      ]
    },
    {
      "cell_type": "code",
      "source": [
        "import pandas as pd\n",
        "from sklearn.model_selection import train_test_split\n",
        "from sklearn.linear_model import LogisticRegression\n",
        "from sklearn.metrics import classification_report, confusion_matrix\n",
        "\n",
        "\n",
        "\n",
        "# Features (time since each direction was last kicked)\n",
        "X = df[['since_left', 'since_center', 'since_right']]\n",
        "y = df['kick_direction']\n",
        "\n",
        "# Train/test split\n",
        "X_train, X_test, y_train, y_test = train_test_split(\n",
        "    X, y, test_size=0.2, stratify=y, random_state=42\n",
        ")\n",
        "\n",
        "# Logistic Regression WITH balanced class weights\n",
        "model = LogisticRegression(\n",
        "    multi_class='multinomial',\n",
        "    solver='lbfgs',\n",
        "    class_weight='balanced',   # ← key difference\n",
        "    max_iter=1000,\n",
        "    random_state=42\n",
        ")\n",
        "\n",
        "# Fit the model\n",
        "model.fit(X_train, y_train)\n",
        "\n",
        "# Predict\n",
        "y_pred = model.predict(X_test)\n",
        "\n",
        "# Evaluation\n",
        "print(classification_report(y_test, y_pred, labels=['Left', 'Center', 'Right']))\n"
      ],
      "metadata": {
        "colab": {
          "base_uri": "https://localhost:8080/"
        },
        "id": "JbXCGUBBgiaD",
        "outputId": "f94b9137-376c-498f-a415-35128a7ebb36"
      },
      "execution_count": null,
      "outputs": [
        {
          "output_type": "stream",
          "name": "stderr",
          "text": [
            "/usr/local/lib/python3.11/dist-packages/sklearn/linear_model/_logistic.py:1247: FutureWarning: 'multi_class' was deprecated in version 1.5 and will be removed in 1.7. From then on, it will always use 'multinomial'. Leave it to its default value to avoid this warning.\n",
            "  warnings.warn(\n"
          ]
        },
        {
          "output_type": "stream",
          "name": "stdout",
          "text": [
            "              precision    recall  f1-score   support\n",
            "\n",
            "        Left       0.62      0.24      0.34      1222\n",
            "      Center       0.25      0.21      0.23       489\n",
            "       Right       0.14      0.55      0.22       289\n",
            "\n",
            "    accuracy                           0.27      2000\n",
            "   macro avg       0.34      0.33      0.26      2000\n",
            "weighted avg       0.46      0.27      0.30      2000\n",
            "\n"
          ]
        }
      ]
    }
  ]
}