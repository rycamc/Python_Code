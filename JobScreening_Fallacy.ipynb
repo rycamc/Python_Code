{
  "nbformat": 4,
  "nbformat_minor": 0,
  "metadata": {
    "colab": {
      "provenance": []
    },
    "kernelspec": {
      "name": "python3",
      "display_name": "Python 3"
    },
    "language_info": {
      "name": "python"
    }
  },
  "cells": [
    {
      "cell_type": "code",
      "execution_count": null,
      "metadata": {
        "colab": {
          "base_uri": "https://localhost:8080/"
        },
        "id": "eXLbaGvKv5Zo",
        "outputId": "bc24a6cc-93d7-400c-b102-daec041f5dc3"
      },
      "outputs": [
        {
          "output_type": "stream",
          "name": "stdout",
          "text": [
            "Fluent_in_Haskell\n",
            "No     4901\n",
            "Yes      99\n",
            "Name: count, dtype: int64\n",
            "Screening_Test_Result\n",
            "Fail    4420\n",
            "Pass     580\n",
            "Name: count, dtype: int64\n",
            "  Fluent_in_Haskell Screening_Test_Result\n",
            "0                No                  Fail\n",
            "1                No                  Fail\n",
            "2                No                  Fail\n",
            "3                No                  Fail\n",
            "4                No                  Fail\n"
          ]
        }
      ],
      "source": [
        "import pandas as pd\n",
        "import numpy as np\n",
        "\n",
        "np.random.seed(42)\n",
        "\n",
        "# Parameters\n",
        "n = 5000\n",
        "haskell_fluency_rate = 0.02  # 2% of applicants are fluent\n",
        "tpr = 0.85  # True positive rate\n",
        "fpr = 0.10  # False positive rate\n",
        "\n",
        "# Step 1: Simulate actual fluency\n",
        "# 1 = Fluent, 0 = Not Fluent\n",
        "actual_fluency = np.random.choice([1, 0], size=n, p=[haskell_fluency_rate, 1 - haskell_fluency_rate])\n",
        "\n",
        "# Step 2: Simulate test results\n",
        "test_results = []\n",
        "for fluent in actual_fluency:\n",
        "    if fluent == 1:\n",
        "        result = np.random.choice(['Pass', 'Fail'], p=[tpr, 1 - tpr])\n",
        "    else:\n",
        "        result = np.random.choice(['Pass', 'Fail'], p=[fpr, 1 - fpr])\n",
        "    test_results.append(result)\n",
        "\n",
        "# Step 3: Create DataFrame\n",
        "df = pd.DataFrame({\n",
        "    'Fluent_in_Haskell': np.where(actual_fluency == 1, 'Yes', 'No'),\n",
        "    'Screening_Test_Result': test_results\n",
        "})\n",
        "\n",
        "# Preview\n",
        "print(df['Fluent_in_Haskell'].value_counts())\n",
        "print(df['Screening_Test_Result'].value_counts())\n",
        "print(df.head())\n"
      ]
    },
    {
      "cell_type": "code",
      "source": [
        "from sklearn.metrics import classification_report, confusion_matrix\n",
        "\n",
        "# Convert labels to binary\n",
        "y_true = (df['Fluent_in_Haskell'] == 'Yes').astype(int)        # 1 = Fluent\n",
        "y_pred = (df['Screening_Test_Result'] == 'Pass').astype(int)   # 1 = Predicted Fluent\n",
        "\n",
        "# Generate classification report\n",
        "report = classification_report(y_true, y_pred, target_names=['Not Fluent', 'Fluent'])\n",
        "print(report)\n"
      ],
      "metadata": {
        "id": "Z_pFSLStw4ce",
        "colab": {
          "base_uri": "https://localhost:8080/"
        },
        "outputId": "12c494e6-1148-47e1-af23-4a5db95eed08"
      },
      "execution_count": null,
      "outputs": [
        {
          "output_type": "stream",
          "name": "stdout",
          "text": [
            "              precision    recall  f1-score   support\n",
            "\n",
            "  Not Fluent       1.00      0.90      0.94      4901\n",
            "      Fluent       0.14      0.83      0.24        99\n",
            "\n",
            "    accuracy                           0.90      5000\n",
            "   macro avg       0.57      0.86      0.59      5000\n",
            "weighted avg       0.98      0.90      0.93      5000\n",
            "\n"
          ]
        }
      ]
    },
    {
      "cell_type": "code",
      "source": [
        "import pandas as pd\n",
        "import numpy as np\n",
        "from sklearn.linear_model import LogisticRegression\n",
        "from sklearn.model_selection import train_test_split\n",
        "from sklearn.metrics import classification_report, confusion_matrix\n",
        "\n",
        "# 1. Simulate Base Dataset (as before)\n",
        "np.random.seed(42)\n",
        "n = 5000\n",
        "haskell_fluency_rate = 0.02\n",
        "tpr = 0.85\n",
        "fpr = 0.10\n",
        "\n",
        "actual_fluency = np.random.choice([1, 0], size=n, p=[haskell_fluency_rate, 1 - haskell_fluency_rate])\n",
        "\n",
        "test_results = []\n",
        "for fluent in actual_fluency:\n",
        "    if fluent == 1:\n",
        "        result = np.random.choice(['Pass', 'Fail'], p=[tpr, 1 - tpr])\n",
        "    else:\n",
        "        result = np.random.choice(['Pass', 'Fail'], p=[fpr, 1 - fpr])\n",
        "    test_results.append(result)\n",
        "\n",
        "df = pd.DataFrame({\n",
        "    'Fluent_in_Haskell': np.where(actual_fluency == 1, 'Yes', 'No'),\n",
        "    'Screening_Test_Result': test_results\n",
        "})\n",
        "\n",
        "# 2. Simulate Features\n",
        "df['Test_Score'] = np.where(df['Screening_Test_Result'] == 'Pass',\n",
        "                            np.random.normal(80, 5, size=n),\n",
        "                            np.random.normal(60, 5, size=n))\n",
        "\n",
        "df['Years_of_Experience'] = np.where(df['Fluent_in_Haskell'] == 'Yes',\n",
        "                                     np.random.poisson(4, size=n),\n",
        "                                     np.random.poisson(1, size=n))\n",
        "\n",
        "# 3. Encode target\n",
        "df['Label'] = (df['Fluent_in_Haskell'] == 'Yes').astype(int)\n",
        "\n",
        "# 4. Train-Test Split\n",
        "X = df[['Test_Score', 'Years_of_Experience']]\n",
        "y = df['Label']\n",
        "\n",
        "X_train, X_test, y_train, y_test = train_test_split(X, y, stratify=y, test_size=0.3, random_state=42)\n",
        "\n",
        "# 5. Logistic Regression with class balancing\n",
        "model = LogisticRegression(class_weight='balanced', solver='liblinear')\n",
        "model.fit(X_train, y_train)\n",
        "\n",
        "# 6. Evaluation\n",
        "y_pred = model.predict(X_test)\n",
        "print(\"Classification Report:\\n\", classification_report(y_test, y_pred, target_names=['Not Fluent', 'Fluent']))"
      ],
      "metadata": {
        "colab": {
          "base_uri": "https://localhost:8080/"
        },
        "id": "PJC-QWMJkC8y",
        "outputId": "46df06ff-36b5-4c58-f781-b542417cbd1b"
      },
      "execution_count": null,
      "outputs": [
        {
          "output_type": "stream",
          "name": "stdout",
          "text": [
            "Classification Report:\n",
            "               precision    recall  f1-score   support\n",
            "\n",
            "  Not Fluent       1.00      0.92      0.96      1470\n",
            "      Fluent       0.19      0.93      0.32        30\n",
            "\n",
            "    accuracy                           0.92      1500\n",
            "   macro avg       0.60      0.93      0.64      1500\n",
            "weighted avg       0.98      0.92      0.95      1500\n",
            "\n"
          ]
        }
      ]
    },
    {
      "cell_type": "code",
      "source": [],
      "metadata": {
        "id": "WRGXsWaUkreF"
      },
      "execution_count": null,
      "outputs": []
    }
  ]
}